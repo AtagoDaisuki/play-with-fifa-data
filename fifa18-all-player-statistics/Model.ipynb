{
 "cells": [
  {
   "cell_type": "code",
   "execution_count": 35,
   "metadata": {},
   "outputs": [
    {
     "data": {
      "text/html": [
       "<div>\n",
       "<style>\n",
       "    .dataframe thead tr:only-child th {\n",
       "        text-align: right;\n",
       "    }\n",
       "\n",
       "    .dataframe thead th {\n",
       "        text-align: left;\n",
       "    }\n",
       "\n",
       "    .dataframe tbody tr th {\n",
       "        vertical-align: top;\n",
       "    }\n",
       "</style>\n",
       "<table border=\"1\" class=\"dataframe\">\n",
       "  <thead>\n",
       "    <tr style=\"text-align: right;\">\n",
       "      <th></th>\n",
       "      <th>Name</th>\n",
       "      <th>Age</th>\n",
       "      <th>Photo</th>\n",
       "      <th>Overall</th>\n",
       "      <th>Value</th>\n",
       "      <th>Finishing</th>\n",
       "    </tr>\n",
       "  </thead>\n",
       "  <tbody>\n",
       "    <tr>\n",
       "      <th>0</th>\n",
       "      <td>Cristiano Ronaldo</td>\n",
       "      <td>32</td>\n",
       "      <td>https://cdn.sofifa.org/48/18/players/20801.png</td>\n",
       "      <td>94</td>\n",
       "      <td>95500000</td>\n",
       "      <td>94</td>\n",
       "    </tr>\n",
       "    <tr>\n",
       "      <th>1</th>\n",
       "      <td>L. Messi</td>\n",
       "      <td>30</td>\n",
       "      <td>https://cdn.sofifa.org/48/18/players/158023.png</td>\n",
       "      <td>93</td>\n",
       "      <td>105000000</td>\n",
       "      <td>95</td>\n",
       "    </tr>\n",
       "    <tr>\n",
       "      <th>2</th>\n",
       "      <td>Neymar</td>\n",
       "      <td>25</td>\n",
       "      <td>https://cdn.sofifa.org/48/18/players/190871.png</td>\n",
       "      <td>92</td>\n",
       "      <td>123000000</td>\n",
       "      <td>89</td>\n",
       "    </tr>\n",
       "  </tbody>\n",
       "</table>\n",
       "</div>"
      ],
      "text/plain": [
       "                Name  Age                                            Photo  \\\n",
       "0  Cristiano Ronaldo   32   https://cdn.sofifa.org/48/18/players/20801.png   \n",
       "1           L. Messi   30  https://cdn.sofifa.org/48/18/players/158023.png   \n",
       "2             Neymar   25  https://cdn.sofifa.org/48/18/players/190871.png   \n",
       "\n",
       "   Overall      Value  Finishing  \n",
       "0       94   95500000         94  \n",
       "1       93  105000000         95  \n",
       "2       92  123000000         89  "
      ]
     },
     "execution_count": 35,
     "metadata": {},
     "output_type": "execute_result"
    }
   ],
   "source": [
    "import csv\n",
    "import numpy as np\n",
    "import pandas as pd\n",
    "# import seaborn as sns\n",
    "# import sklearn\n",
    "\n",
    "col_dtypes = {'Overall': np.int32, 'Age': np.int32}\n",
    "df = pd.read_csv('Complete/CompleteDataset.csv', usecols=['Name', 'Photo', 'Value', 'Overall', 'Age', 'Finishing'], dtype=col_dtypes, low_memory=False)\n",
    "\n",
    "df['Value'] = df['Value'].str.replace('€','')\n",
    "\n",
    "#parse string for millions and thousands to numeric values\n",
    "def parseValue(strVal):\n",
    "    if 'M' in strVal:\n",
    "        return int(float(strVal.replace('M', '')) * 1000000)\n",
    "    elif 'K' in strVal:\n",
    "        return int(float(strVal.replace('K', '')) * 1000)\n",
    "    else:\n",
    "        return int(strVal)   \n",
    " \n",
    "df['Value'] = df['Value'].apply(lambda x: parseValue(x))\n",
    "\n",
    "#check if there are null/missing values and how many in each column\n",
    "# df.isnull().sum()\n",
    "\n",
    "#Nobody can have a value lower or equal than zero, so those values are bad entries and we need to remove them\n",
    "df = df.loc[df.Value > 0]\n",
    "\n",
    "def between_1_and_99(s):\n",
    "    try:\n",
    "        n = int(s)\n",
    "        return (1 <= n and n <= 99)\n",
    "    except ValueError:\n",
    "        return False\n",
    " \n",
    "# remove not valid entries for Finishing\n",
    "df = df.loc[df['Finishing'].apply(lambda x: between_1_and_99(x))]\n",
    " \n",
    "# now we can define Finishing as integers\n",
    "df['Finishing'] = df['Finishing'].astype('int')\n",
    "\n",
    "# df.count\n",
    "df.head(3)\n",
    "# df.Value.describe()\n",
    "# df.nlargest(5, columns='Overall')\n",
    "# df.nlargest(5, columns='Overall')"
   ]
  },
  {
   "cell_type": "code",
   "execution_count": 36,
   "metadata": {},
   "outputs": [
    {
     "data": {
      "image/png": "[encoded data removed]",
      "text/plain": [
       "<matplotlib.figure.Figure at 0x102f7ac8>"
      ]
     },
     "metadata": {},
     "output_type": "display_data"
    }
   ],
   "source": [
    "import matplotlib.pyplot as plt\n",
    "\n",
    "plt.hist(df.Overall, bins=16, alpha=0.6, color='y')\n",
    "plt.title(\"#Overall Distribution\")\n",
    "plt.xlabel(\"Overall\")\n",
    "plt.ylabel(\"Count\")\n",
    "\n",
    "plt.show()"
   ]
  },
  {
   "cell_type": "code",
   "execution_count": 37,
   "metadata": {},
   "outputs": [
    {
     "name": "stdout",
     "output_type": "stream",
     "text": [
      "The mean value for the Overall feature is  66.22917494747601  and the standard deviation is  7.003240305890887\n"
     ]
    }
   ],
   "source": [
    "overall_mean = df.Overall.mean()\n",
    "overall_std = df.Overall.std()\n",
    "print('The mean value for the Overall feature is ', overall_mean, ' and the standard deviation is ', overall_std)"
   ]
  },
  {
   "cell_type": "code",
   "execution_count": 38,
   "metadata": {},
   "outputs": [
    {
     "name": "stdout",
     "output_type": "stream",
     "text": [
      "1 std % :  68.951223667 , 2 std % :  94.9236272784 , 3 std % :  99.8126171143\n"
     ]
    }
   ],
   "source": [
    "#number of observations in +/-1 std, +/- 2std and +/- 3 std\n",
    "std1_count = (df[(df.Overall >= (overall_mean - 1*overall_std)) & (df.Overall <= overall_mean + 1*overall_std)]['Overall']).count()\n",
    "std2_count = (df[(df.Overall >= (overall_mean - 2*overall_std)) & (df.Overall <= overall_mean + 2*overall_std)]['Overall']).count()\n",
    "std3_count = (df[(df.Overall >= (overall_mean - 3*overall_std)) & (df.Overall <= overall_mean + 3*overall_std)]['Overall']).count()\n",
    "\n",
    "#% of observations in each range\n",
    "overall_total_count = df.Overall.count()\n",
    "percentage_std1 = std1_count/overall_total_count * 100 #empirically it should be 68% approx\n",
    "percentage_std2 = std2_count/overall_total_count * 100 #empirically it should be 95% approx\n",
    "percentage_std3 = std3_count/overall_total_count * 100 #empirically it should be 99.7% approx\n",
    "\n",
    "print('1 std % : ', percentage_std1, ', 2 std % : ', percentage_std2, ', 3 std % : ', percentage_std3)"
   ]
  },
  {
   "cell_type": "code",
   "execution_count": 39,
   "metadata": {},
   "outputs": [
    {
     "data": {
      "image/png": "[encoded data removed]",
      "text/plain": [
       "<matplotlib.figure.Figure at 0xf700a90>"
      ]
     },
     "metadata": {},
     "output_type": "display_data"
    }
   ],
   "source": [
    "from scipy.stats import norm\n",
    "\n",
    "#plot the histogram\n",
    "plt.hist(df.Overall, bins=16, normed=True, alpha=0.6, color='g')\n",
    "plt.title(\"#Players per Overall\")\n",
    "plt.xlabel(\"Overall\")\n",
    "plt.ylabel(\"Count\")\n",
    "\n",
    "# Plot the probability density function for norm\n",
    "xmin, xmax = plt.xlim()\n",
    "x = np.linspace(xmin, xmax, 100)\n",
    "p = norm.pdf(x, overall_mean, overall_std)\n",
    "plt.plot(x, p, 'k', linewidth=2, color='r')\n",
    "title = \"#Players per Overall, Fit results: mean = %.2f,  std = %.2f\" % (overall_mean, overall_std)\n",
    "plt.title(title)\n",
    "\n",
    "plt.show()"
   ]
  },
  {
   "cell_type": "code",
   "execution_count": 42,
   "metadata": {},
   "outputs": [
    {
     "data": {
      "text/plain": [
       "LinearRegression(copy_X=True, fit_intercept=True, n_jobs=1, normalize=False)"
      ]
     },
     "execution_count": 42,
     "metadata": {},
     "output_type": "execute_result"
    }
   ],
   "source": [
    "from sklearn.model_selection import train_test_split\n",
    "\n",
    "train, test = train_test_split(df, test_size=0.20, random_state=99)\n",
    "\n",
    "xtrain = train[['Value']]\n",
    "ytrain = train[['Overall']]\n",
    "\n",
    "xtest = test[['Value']]\n",
    "ytest = test[['Overall']]\n",
    "\n",
    "# Create linear regression object\n",
    "from sklearn import linear_model\n",
    "regr = linear_model.LinearRegression()\n",
    "regr.fit(xtrain, ytrain)b"
   ]
  },
  {
   "cell_type": "code",
   "execution_count": 56,
   "metadata": {},
   "outputs": [
    {
     "name": "stdout",
     "output_type": "stream",
     "text": [
      "10000\n",
      "123000000\n",
      "46\n",
      "94\n"
     ]
    }
   ],
   "source": [
    "print(df.Value.min(numeric_only=None))\n",
    "print(df.Value.max(numeric_only=None))\n",
    "print(df.Overall.min(numeric_only=None))\n",
    "print(df.Overall.max(numeric_only=None))"
   ]
  },
  {
   "cell_type": "code",
   "execution_count": 59,
   "metadata": {},
   "outputs": [
    {
     "data": {
      "image/png": "[encoded data removed]",
      "text/plain": [
       "<matplotlib.figure.Figure at 0x1084c400>"
      ]
     },
     "metadata": {},
     "output_type": "display_data"
    }
   ],
   "source": [
    "# Make predictions using the testing set\n",
    "y_pred = regr.predict(xtest)\n",
    "\n",
    "plt.scatter(xtest, ytest,  color='black')\n",
    "plt.plot(xtest, y_pred, color='blue', linewidth=3)\n",
    "plt.xlabel(\"Value\")\n",
    "plt.ylabel(\"Overall\")\n",
    "plt.show()"
   ]
  },
  {
   "cell_type": "code",
   "execution_count": 60,
   "metadata": {},
   "outputs": [
    {
     "name": "stdout",
     "output_type": "stream",
     "text": [
      "% of players with a value lower that €30M:  99.3299642269 %\n"
     ]
    }
   ],
   "source": [
    "print('% of players with a value lower that €30M: ', df[df.Value <= 30000000].Value.count() / df.Value.count() * 100, '%')"
   ]
  },
  {
   "cell_type": "code",
   "execution_count": 61,
   "metadata": {},
   "outputs": [
    {
     "data": {
      "image/png": "[encoded data removed]",
      "text/plain": [
       "<matplotlib.figure.Figure at 0x104b9b70>"
      ]
     },
     "metadata": {},
     "output_type": "display_data"
    }
   ],
   "source": [
    "plt.hist(test.Value)\n",
    "plt.title(\"#Players per Value\")\n",
    "plt.xlabel(\"Value\")\n",
    "plt.ylabel(\"Count\")\n",
    "plt.show()"
   ]
  },
  {
   "cell_type": "code",
   "execution_count": 63,
   "metadata": {},
   "outputs": [
    {
     "name": "stdout",
     "output_type": "stream",
     "text": [
      "Mean squared error: 28.88\n",
      "Variance score: 0.41\n"
     ]
    }
   ],
   "source": [
    "import numpy as np # Linear algebra\n",
    "from sklearn.metrics import mean_squared_error, r2_score #common metris to evaluate regression models\n",
    "\n",
    "# The mean squared error\n",
    "print(\"Mean squared error: %.2f\" % mean_squared_error(ytest, y_pred))\n",
    "\n",
    "# Explained variance score: 1 is perfect prediction\n",
    "print('Variance score: %.2f' % r2_score(ytest, y_pred))"
   ]
  },
  {
   "cell_type": "code",
   "execution_count": 64,
   "metadata": {},
   "outputs": [
    {
     "data": {
      "image/png": "[encoded data removed]",
      "text/plain": [
       "<matplotlib.figure.Figure at 0x109e0860>"
      ]
     },
     "metadata": {},
     "output_type": "display_data"
    }
   ],
   "source": [
    "from sklearn.preprocessing import PolynomialFeatures\n",
    "from sklearn.pipeline import make_pipeline\n",
    "\n",
    "pol = make_pipeline(PolynomialFeatures(6), linear_model.Ridge())\n",
    "pol.fit(xtrain, ytrain)\n",
    "\n",
    "y_pol = pol.predict(xtest)\n",
    "plt.scatter(xtest, ytest,  color='black')\n",
    "plt.scatter(xtest, y_pol,  color='blue')\n",
    "plt.xlabel(\"Value\")\n",
    "plt.ylabel(\"Overall\")\n",
    "plt.show()"
   ]
  },
  {
   "cell_type": "code",
   "execution_count": 65,
   "metadata": {},
   "outputs": [
    {
     "name": "stdout",
     "output_type": "stream",
     "text": [
      "Mean squared error: 13.07\n",
      "Variance score: 0.73\n"
     ]
    }
   ],
   "source": [
    "# The mean squared error\n",
    "print(\"Mean squared error: %.2f\" % mean_squared_error(ytest, y_pol))\n",
    "\n",
    "# Explained variance score: 1 is perfect prediction\n",
    "print('Variance score: %.2f' % r2_score(ytest, y_pol))"
   ]
  },
  {
   "cell_type": "code",
   "execution_count": 66,
   "metadata": {},
   "outputs": [
    {
     "data": {
      "text/plain": [
       "SVR(C=100, cache_size=200, coef0=0.0, degree=3, epsilon=0.1, gamma=0.001,\n",
       "  kernel='rbf', max_iter=-1, shrinking=True, tol=0.001, verbose=False)"
      ]
     },
     "execution_count": 66,
     "metadata": {},
     "output_type": "execute_result"
    }
   ],
   "source": [
    "from sklearn.svm import SVR\n",
    "\n",
    "svr_rbf = SVR(kernel='rbf', gamma=1e-3, C=100, epsilon=0.1)\n",
    "svr_rbf.fit(xtrain, ytrain.values.ravel())"
   ]
  },
  {
   "cell_type": "code",
   "execution_count": 67,
   "metadata": {
    "collapsed": true
   },
   "outputs": [],
   "source": [
    "y_rbf = svr_rbf.predict(xtest)"
   ]
  },
  {
   "cell_type": "code",
   "execution_count": 68,
   "metadata": {},
   "outputs": [
    {
     "data": {
      "image/png": "[encoded data removed]",
      "text/plain": [
       "<matplotlib.figure.Figure at 0x10c0a630>"
      ]
     },
     "metadata": {},
     "output_type": "display_data"
    }
   ],
   "source": [
    "plt.scatter(xtest, ytest,  color='black')\n",
    "plt.scatter(xtest, y_rbf,  color='blue')\n",
    "plt.xlabel(\"Value\")\n",
    "plt.ylabel(\"Overall\")\n",
    "plt.show()"
   ]
  },
  {
   "cell_type": "code",
   "execution_count": 69,
   "metadata": {},
   "outputs": [
    {
     "name": "stdout",
     "output_type": "stream",
     "text": [
      "Mean squared error: 6.00\n",
      "Variance score: 0.88\n"
     ]
    }
   ],
   "source": [
    "# The mean squared error\n",
    "print(\"Mean squared error: %.2f\" % mean_squared_error(ytest, y_rbf))\n",
    "\n",
    "# Explained variance score: 1 is perfect prediction\n",
    "print('Variance score: %.2f' % r2_score(ytest, y_rbf))"
   ]
  },
  {
   "cell_type": "code",
   "execution_count": 70,
   "metadata": {},
   "outputs": [
    {
     "data": {
      "text/html": [
       "<div>\n",
       "<style>\n",
       "    .dataframe thead tr:only-child th {\n",
       "        text-align: right;\n",
       "    }\n",
       "\n",
       "    .dataframe thead th {\n",
       "        text-align: left;\n",
       "    }\n",
       "\n",
       "    .dataframe tbody tr th {\n",
       "        vertical-align: top;\n",
       "    }\n",
       "</style>\n",
       "<table border=\"1\" class=\"dataframe\">\n",
       "  <thead>\n",
       "    <tr style=\"text-align: right;\">\n",
       "      <th></th>\n",
       "      <th>Value</th>\n",
       "      <th>Age</th>\n",
       "      <th>Finishing</th>\n",
       "    </tr>\n",
       "  </thead>\n",
       "  <tbody>\n",
       "    <tr>\n",
       "      <th>1141</th>\n",
       "      <td>12000000</td>\n",
       "      <td>23</td>\n",
       "      <td>76</td>\n",
       "    </tr>\n",
       "    <tr>\n",
       "      <th>13167</th>\n",
       "      <td>650000</td>\n",
       "      <td>19</td>\n",
       "      <td>55</td>\n",
       "    </tr>\n",
       "    <tr>\n",
       "      <th>17890</th>\n",
       "      <td>60000</td>\n",
       "      <td>18</td>\n",
       "      <td>43</td>\n",
       "    </tr>\n",
       "    <tr>\n",
       "      <th>5393</th>\n",
       "      <td>1400000</td>\n",
       "      <td>29</td>\n",
       "      <td>27</td>\n",
       "    </tr>\n",
       "    <tr>\n",
       "      <th>8268</th>\n",
       "      <td>550000</td>\n",
       "      <td>30</td>\n",
       "      <td>41</td>\n",
       "    </tr>\n",
       "  </tbody>\n",
       "</table>\n",
       "</div>"
      ],
      "text/plain": [
       "          Value  Age  Finishing\n",
       "1141   12000000   23         76\n",
       "13167    650000   19         55\n",
       "17890     60000   18         43\n",
       "5393    1400000   29         27\n",
       "8268     550000   30         41"
      ]
     },
     "execution_count": 70,
     "metadata": {},
     "output_type": "execute_result"
    }
   ],
   "source": [
    "xtrain = train[['Value', 'Age', 'Finishing']]\n",
    "xtest = test[['Value', 'Age', 'Finishing']]\n",
    "xtrain.head()"
   ]
  },
  {
   "cell_type": "code",
   "execution_count": 71,
   "metadata": {},
   "outputs": [
    {
     "name": "stdout",
     "output_type": "stream",
     "text": [
      "Mean squared error: 20.19\n",
      "Variance score: 0.59\n"
     ]
    }
   ],
   "source": [
    "regr_more_features = linear_model.LinearRegression()\n",
    "regr_more_features.fit(xtrain, ytrain)\n",
    "y_pred_more_features = regr_more_features.predict(xtest)\n",
    "print(\"Mean squared error: %.2f\" % mean_squared_error(ytest, y_pred_more_features))\n",
    "print('Variance score: %.2f' % r2_score(ytest, y_pred_more_features))"
   ]
  },
  {
   "cell_type": "code",
   "execution_count": 72,
   "metadata": {},
   "outputs": [
    {
     "name": "stdout",
     "output_type": "stream",
     "text": [
      "Mean squared error: 8.32\n",
      "Variance score: 0.83\n"
     ]
    }
   ],
   "source": [
    "pol_more_features = make_pipeline(PolynomialFeatures(4), linear_model.Ridge())\n",
    "pol_more_features.fit(xtrain, ytrain)\n",
    "y_pol_more_features = pol_more_features.predict(xtest)\n",
    "print(\"Mean squared error: %.2f\" % mean_squared_error(ytest, y_pol_more_features))\n",
    "print('Variance score: %.2f' % r2_score(ytest, y_pol_more_features))"
   ]
  },
  {
   "cell_type": "code",
   "execution_count": 73,
   "metadata": {},
   "outputs": [
    {
     "name": "stdout",
     "output_type": "stream",
     "text": [
      "Mean squared error: 1.23\n",
      "Variance score: 0.97\n"
     ]
    }
   ],
   "source": [
    "svr_rbf_more_features = SVR(kernel='rbf', gamma=1e-3, C=100, epsilon=0.1)\n",
    "svr_rbf_more_features.fit(xtrain, ytrain.values.ravel())\n",
    "y_rbf_more_features = svr_rbf_more_features.predict(xtest)\n",
    "print(\"Mean squared error: %.2f\" % mean_squared_error(ytest, y_rbf_more_features))\n",
    "print('Variance score: %.2f' % r2_score(ytest, y_rbf_more_features))"
   ]
  },
  {
   "cell_type": "code",
   "execution_count": 74,
   "metadata": {
    "collapsed": true
   },
   "outputs": [],
   "source": [
    "pd.options.mode.chained_assignment = None\n",
    "test['Overall_Prediction_RBF'] = y_rbf_more_features\n",
    "test['Error_Percentage'] =  np.abs((test.Overall - y_rbf_more_features) / test.Overall * 100)"
   ]
  },
  {
   "cell_type": "code",
   "execution_count": 75,
   "metadata": {},
   "outputs": [
    {
     "data": {
      "image/png": "[encoded data removed]",
      "text/plain": [
       "<matplotlib.figure.Figure at 0xf5e2160>"
      ]
     },
     "metadata": {},
     "output_type": "display_data"
    }
   ],
   "source": [
    "test[['Name', 'Age', 'Value', 'Overall', 'Overall_Prediction_RBF','Error_Percentage']].nlargest(15, columns='Error_Percentage')\n",
    "plt.hist(test.Error_Percentage, bins=16)\n",
    "plt.title(\"#Players per %error\")\n",
    "plt.xlabel(\"%error\")\n",
    "plt.ylabel(\"Count\")\n",
    "plt.show()"
   ]
  },
  {
   "cell_type": "code",
   "execution_count": 76,
   "metadata": {},
   "outputs": [
    {
     "name": "stdout",
     "output_type": "stream",
     "text": [
      "Mean squared error: 0.61\n",
      "Variance score: 0.99\n"
     ]
    }
   ],
   "source": [
    "y_rbf_all = svr_rbf_more_features.predict(df[['Value', 'Age', 'Finishing']])\n",
    "print(\"Mean squared error: %.2f\" % mean_squared_error(df[['Overall']], y_rbf_all))\n",
    "print('Variance score: %.2f' % r2_score(df[['Overall']], y_rbf_all))"
   ]
  },
  {
   "cell_type": "code",
   "execution_count": 78,
   "metadata": {
    "collapsed": true
   },
   "outputs": [],
   "source": [
    "#from IPython.html import widgets\n",
    "\n",
    "pd.options.mode.chained_assignment = None\n",
    "df['Overall_Prediction_RBF'] = y_rbf_all\n",
    "df['Error_Percentage'] =  np.abs((df.Overall - y_rbf_all) / df.Overall * 100)\n",
    "jsonDf = df.to_json(orient='records')\n",
    "#widgets.HTML(value = ''' players = ''' + jsonDf)\n",
    "\n",
    "# https://www.uruit.com/blog/2018/02/16/soccer-and-machine-learning-tutorial/"
   ]
  }
 ],
 "metadata": {
  "kernelspec": {
   "display_name": "Python 3",
   "language": "python",
   "name": "python3"
  },
  "language_info": {
   "codemirror_mode": {
    "name": "ipython",
    "version": 3
   },
   "file_extension": ".py",
   "mimetype": "text/x-python",
   "name": "python",
   "nbconvert_exporter": "python",
   "pygments_lexer": "ipython3",
   "version": "3.6.3"
  }
 },
 "nbformat": 4,
 "nbformat_minor": 2
}
